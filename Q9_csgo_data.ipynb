{
 "cells": [
  {
   "cell_type": "markdown",
   "metadata": {},
   "source": [
    "# Q9 New data."
   ]
  },
  {
   "cell_type": "code",
   "execution_count": 6,
   "metadata": {},
   "outputs": [
    {
     "name": "stdout",
     "output_type": "stream",
     "text": [
      "shape: (45773, 19)\n",
      "columns: Index(['date', 'team_1', 'team_2', '_map', 'result_1', 'result_2',\n",
      "       'map_winner', 'starting_ct', 'ct_1', 't_2', 't_1', 'ct_2', 'event_id',\n",
      "       'match_id', 'rank_1', 'rank_2', 'map_wins_1', 'map_wins_2',\n",
      "       'match_winner'],\n",
      "      dtype='object')\n",
      "\n",
      "shape: (30000, 1)\n",
      "\n",
      "Nr of unique teams: 654\n",
      "\n",
      "Number of teams with more than 200 matches: 47\n",
      "\n",
      "shape: (6712, 19)\n",
      "\n",
      "shape: (3401, 19)\n",
      "\n",
      "Nr of unique teams: 47\n",
      "\n",
      "shape: (6802, 1)\n",
      "\n",
      "Nr of unique teams: 47\n",
      "\n",
      "Number of teams with more than 200 matches: forZe                253\n",
      "HAVU                 245\n",
      "Vitality             229\n",
      "Sprout               223\n",
      "Tricked              219\n",
      "AGO                  214\n",
      "AVANGAR              209\n",
      "G2                   204\n",
      "Heroic               201\n",
      "Spirit               197\n",
      "Nemiga               188\n",
      "Windigo              186\n",
      "Virtus.pro           186\n",
      "Liquid               182\n",
      "GamerLegion          178\n",
      "Movistar Riders      174\n",
      "BIG                  172\n",
      "fnatic               161\n",
      "Copenhagen Flames    160\n",
      "NiP                  159\n",
      "pro100               158\n",
      "Winstrike            158\n",
      "ENCE                 145\n",
      "mousesports          144\n",
      "North                144\n",
      "FURIA                137\n",
      "Astralis             136\n",
      "MIBR                 136\n",
      "Chaos                135\n",
      "Valiance             133\n",
      "FaZe                 131\n",
      "HellRaisers          131\n",
      "Unique               128\n",
      "Heretics             112\n",
      "PACT                 108\n",
      "ALTERNATE aTTaX      105\n",
      "SJ                   104\n",
      "DreamEaters          101\n",
      "Grayhound             75\n",
      "Chiefs                67\n",
      "INTZ                  67\n",
      "ORDER                 65\n",
      "Singularity           64\n",
      "TYLOO                 64\n",
      "DETONA                43\n",
      "W7M                   36\n",
      "TeamOne               35\n",
      "Name: team, dtype: int64\n"
     ]
    }
   ],
   "source": [
    "# Q9: New data\n",
    "import pandas as pd\n",
    "import numpy as np\n",
    "import matplotlib.pyplot as plt\n",
    "import seaborn as sns\n",
    "\n",
    "# Read data\n",
    "df = pd.read_csv('csgo_dataset.csv')\n",
    "\n",
    "print(f'shape: {df.shape}')\n",
    "print(f'columns: {df.columns}')\n",
    "\n",
    "# Keep recent matches\n",
    "df = df.iloc[0:15000]\n",
    "\n",
    "\n",
    "# create a dataframe with team_1 and team_2 as one column\n",
    "teams_df = pd.DataFrame()\n",
    "teams_df['team'] = pd.concat([df['team_1'], df['team_2']])\n",
    "\n",
    "print(f'\\nshape: {teams_df.shape}')\n",
    "# Nr of unique teams in the dataset\n",
    "print(f'\\nNr of unique teams: {teams_df.team.nunique()}')\n",
    "print(f'\\nNumber of teams with more than 200 matches: {teams_df.team.value_counts()[teams_df.team.value_counts() > 200].count()}')\n",
    "\n",
    "# Remove all games (rows) with teams that have less than 200 matches in the original dataset\n",
    "df = df[df.team_1.isin(teams_df.team.value_counts()[teams_df.team.value_counts() > 200].index)]\n",
    "print(f'\\nshape: {df.shape}')\n",
    "df = df[df.team_2.isin(teams_df.team.value_counts()[teams_df.team.value_counts() > 200].index)]\n",
    "print(f'\\nshape: {df.shape}')\n",
    "\n",
    "print(f'\\nNr of unique teams: {df.team_2.nunique()}')\n",
    "\n",
    "# create a dataframe with team_1 and team_2 as one column\n",
    "teams_df = pd.DataFrame()\n",
    "teams_df['team'] = pd.concat([df['team_1'], df['team_2']])\n",
    "\n",
    "print(f'\\nshape: {teams_df.shape}')\n",
    "# Nr of unique teams in the dataset\n",
    "print(f'\\nNr of unique teams: {teams_df.team.nunique()}')\n",
    "print(f'\\nNumber of teams with more than 200 matches: {teams_df.team.value_counts()[teams_df.team.value_counts() > 10]}')\n"
   ]
  },
  {
   "cell_type": "markdown",
   "metadata": {},
   "source": [
    "## Results:\n",
    " We now have a df with 3401 games, 47 teams, all with 200+ games in total, and all between [35, 253] games in the final dataset"
   ]
  },
  {
   "cell_type": "code",
   "execution_count": 7,
   "metadata": {},
   "outputs": [
    {
     "name": "stdout",
     "output_type": "stream",
     "text": [
      "\n",
      "shape: (3394, 4)\n"
     ]
    }
   ],
   "source": [
    "# change the column map_winner values to 1 and -1\n",
    "from numpy import sign\n",
    "from Preprocessing_serieA_function import preprocess_serieA_no_draws as pre\n",
    "\n",
    "# for i in range(len(df)):\n",
    "#     if sign(df['result_1'].iloc[i] - df['result_2'].iloc[i]) == 0:\n",
    "#         print('\\nError in row: ', i)\n",
    "#         print(df.iloc[i])\n",
    "\n",
    "df = pre(df, 'csgo')\n",
    "df['map_winner'] = df['map_winner'].apply(lambda x: 1 if x == 1 else -1)\n"
   ]
  },
  {
   "cell_type": "markdown",
   "metadata": {},
   "source": [
    "# CSGO dataset is now preprocessed\n",
    "### Lets: go"
   ]
  },
  {
   "cell_type": "code",
   "execution_count": null,
   "metadata": {},
   "outputs": [],
   "source": [
    "from ADF_script import ADF\n",
    "\n"
   ]
  }
 ],
 "metadata": {
  "kernelspec": {
   "display_name": "Python 3",
   "language": "python",
   "name": "python3"
  },
  "language_info": {
   "codemirror_mode": {
    "name": "ipython",
    "version": 3
   },
   "file_extension": ".py",
   "mimetype": "text/x-python",
   "name": "python",
   "nbconvert_exporter": "python",
   "pygments_lexer": "ipython3",
   "version": "3.8.10"
  },
  "orig_nbformat": 4
 },
 "nbformat": 4,
 "nbformat_minor": 2
}
