{
 "cells": [
  {
   "cell_type": "markdown",
   "metadata": {},
   "source": [
    "# Q5 Assumed Density Filtering\n",
    "### Q5.1 Pre-processing and variables"
   ]
  },
  {
   "cell_type": "code",
   "execution_count": 23,
   "metadata": {},
   "outputs": [
    {
     "name": "stdout",
     "output_type": "stream",
     "text": [
      "      team1     team2  y\n",
      "0    Chievo  Juventus -1\n",
      "1     Lazio    Napoli -1\n",
      "2    Torino      Roma -1\n",
      "3  Sassuolo     Inter  1\n",
      "5    Empoli  Cagliari  1\n",
      "     team1     team2  y\n",
      "0   Torino     Inter  1\n",
      "1  Udinese  Atalanta -1\n",
      "2     Spal  Sassuolo -1\n",
      "3   Empoli    Torino  1\n",
      "4   Empoli  Sassuolo  1\n"
     ]
    }
   ],
   "source": [
    "# Q5 Assumed density filtering\n",
    "# import preprocessing function and Gibbs sampler function\n",
    "from Preprocessing_serieA_function import preprocess_serieA_no_draws\n",
    "from Gibbs_sampler_function import gibbs_sampling\n",
    "import numpy as np\n",
    "import pandas as pd\n",
    "import matplotlib.pyplot as plt\n",
    "import seaborn as sns\n",
    "import scipy.stats as stats\n",
    "\n",
    "# load data\n",
    "data = pd.read_csv('SerieA_dataset.csv')\n",
    "\n",
    "# preprocess data\n",
    "data_preprocessed = preprocess_serieA_no_draws(data)\n",
    "print(data_preprocessed.head())\n",
    "# Create team dictionary test 1\n",
    "unique_teams_1 = data_preprocessed['team1'].unique().tolist()\n",
    "mean=[25 for i in range(len(unique_teams_1))]\n",
    "variance=[64 for i in range(len(unique_teams_1))]\n",
    "\n",
    "teams_dictionary = {i:[25,64] for i in unique_teams_1}\n",
    "\n",
    "# Create team dictionary test 2 for shuffled data\n",
    "shuffled_teams_dictionary = {i:[25,64] for i in unique_teams_1}\n",
    "\n",
    "# shuffle data\n",
    "shuffled_data = data_preprocessed.copy()\n",
    "shuffled_data = shuffled_data.sample(frac=1).reset_index(drop=True)\n",
    "print(shuffled_data.head())\n",
    "\n",
    "# print(teams_dictionary)\n",
    "\n",
    "game1 = data_preprocessed.iloc[0, :]\n",
    "# print(game1[0])\n",
    "# print(f'\\nFirst game:\\n {game1}')"
   ]
  },
  {
   "cell_type": "markdown",
   "metadata": {},
   "source": [
    "# Q.6\n",
    "### Q6.1 prediction function"
   ]
  },
  {
   "cell_type": "code",
   "execution_count": null,
   "metadata": {},
   "outputs": [],
   "source": [
    "predictions = []\n",
    "# Prediction function (deterministic)\n",
    "# if skills are equal, team 1 wins, might need to change this\n",
    "def prediction(team1_mean, team2_mean):\n",
    "    if team1_mean > team2_mean:\n",
    "        return 1\n",
    "    elif team1_mean < team2_mean:\n",
    "        return -1\n",
    "    elif team1_mean == team2_mean:\n",
    "        return 1\n",
    "    else:\n",
    "        print('Error in prediction function')\n"
   ]
  },
  {
   "cell_type": "markdown",
   "metadata": {},
   "source": [
    "### Q5.2 Assumed Density Filtering (ADF) function"
   ]
  },
  {
   "cell_type": "code",
   "execution_count": null,
   "metadata": {},
   "outputs": [],
   "source": [
    "# Assumed density filtering (ADF)\n",
    "def ADF(teams_dictionary, dataframe):\n",
    "    # print(dataframe.head())\n",
    "    # print(teams_dictionary)\n",
    "\n",
    "    # Assumed density filtering (ADF)\n",
    "    n_iter = 2000\n",
    "    # Loop over all games\n",
    "\n",
    "    for index, game1 in dataframe.iterrows():\n",
    "        \n",
    "        # Load means and variances from dictionary\n",
    "        mean_team1 = float(teams_dictionary[game1[0]][0])\n",
    "        mean_team2 = float(teams_dictionary[game1[1]][0])\n",
    "\n",
    "        variance_team1 = float(teams_dictionary[game1[0]][1])\n",
    "        variance_team2 = float(teams_dictionary[game1[1]][1])\n",
    "\n",
    "        # One-Step-Ahead prediction\n",
    "        y_pred = prediction(mean_team1, mean_team2)\n",
    "        predictions.append(y_pred)\n",
    "        \n",
    "        # create mean column and covariance matrix\n",
    "        s1_s2_mean_col = np.array([[mean_team1, mean_team2]]).reshape(-1,1)\n",
    "        s_cov_matrix = np.array([[variance_team1, 0], [0, variance_team2]])\n",
    "\n",
    "        y = game1['y']\n",
    "\n",
    "\n",
    "        s1_means, s2_means, s1_vars, s2_vars, s1_samples, s2_samples = gibbs_sampling(n_iter, s1_s2_mean_col, s_cov_matrix, y)\n",
    "\n",
    "        # print(f'\\nMean of team 1: {s1_means[-1]}')\n",
    "        # print(f'\\nMean of team 2: {s2_means[-1]}')\n",
    "\n",
    "        # Update team dictionary means\n",
    "        teams_dictionary[game1[0]][0] = s1_means[-1]\n",
    "        teams_dictionary[game1[1]][0] = s2_means[-1]\n",
    "\n",
    "        # update team dictionary variances\n",
    "        teams_dictionary[game1[0]][1] = s1_vars[-1]\n",
    "        teams_dictionary[game1[1]][1] = s2_vars[-1]\n",
    "\n",
    "    return teams_dictionary"
   ]
  },
  {
   "cell_type": "markdown",
   "metadata": {},
   "source": [
    "## Q5 & Q6: Run functions"
   ]
  },
  {
   "cell_type": "code",
   "execution_count": null,
   "metadata": {},
   "outputs": [],
   "source": [
    "# Run ADF on data\n",
    "dic1= ADF(teams_dictionary, data_preprocessed)\n",
    "\n",
    "# Run ADP on shuffled data\n",
    "# dic_shuffled = ADF(shuffled_teams_dictionary, shuffled_data)"
   ]
  },
  {
   "cell_type": "markdown",
   "metadata": {},
   "source": [
    "# Results:\n",
    "### Team ranking changes after shuffle\n",
    "#### prediction rate of one-step-head = 0.64, better than random guessing(0.5)"
   ]
  },
  {
   "cell_type": "code",
   "execution_count": 27,
   "metadata": {},
   "outputs": [
    {
     "name": "stdout",
     "output_type": "stream",
     "text": [
      "Teams after the season, no shuffle:\n",
      "                 mean  variance\n",
      "Juventus    36.482010  0.000216\n",
      "Napoli      29.369931  0.000210\n",
      "Torino      26.271370  0.000243\n",
      "Roma        26.036053  0.000237\n",
      "Genoa       25.161622  0.000311\n",
      "Milan       25.113930  0.000204\n",
      "Atalanta    24.782000  0.000231\n",
      "Sampdoria   24.637599  0.000193\n",
      "Inter       24.585426  0.000233\n",
      "Spal        24.556108  0.000201\n",
      "Empoli      23.471590  0.000195\n",
      "Sassuolo    23.072610  0.000302\n",
      "Lazio       22.725028  0.000199\n",
      "Fiorentina  22.667780  0.000298\n",
      "Bologna     22.548931  0.000201\n",
      "Parma       22.461052  0.000271\n",
      "Cagliari    21.950213  0.000194\n",
      "Udinese     21.337049  0.000208\n",
      "Frosinone   19.485199  0.000204\n",
      "Chievo      15.772741  0.000253\n",
      "\n",
      "Prediction rate of One-Step-Ahead prediction: 0.6397058823529411\n",
      "\n",
      "Prediction rate of One-Step-Ahead prediction for last 60 games: 0.7\n"
     ]
    }
   ],
   "source": [
    "# Create dataframe of means and variances\n",
    "teams_df = pd.DataFrame(dic1, index=['mean', 'variance']).T\n",
    "teams_df = teams_df.sort_values(by=['mean'], ascending=False)\n",
    "print('Teams after the season, no shuffle:')\n",
    "print(teams_df)\n",
    "\n",
    "# Calculate prediction rate\n",
    "from sklearn.metrics import accuracy_score\n",
    "y_true = data_preprocessed['y'].tolist()\n",
    "prediction_rate = accuracy_score(y_true, predictions)\n",
    "print(f'\\nPrediction rate of One-Step-Ahead prediction: {prediction_rate}')\n",
    "\n",
    "# prediction rate of last 60 games\n",
    "y_true_last_60 = y_true[-10:]\n",
    "predictions_last_60 = predictions[-10:]\n",
    "prediction_rate_last_60 = accuracy_score(y_true_last_60, predictions_last_60)\n",
    "print(f'\\nPrediction rate of One-Step-Ahead prediction for last 60 games: {prediction_rate_last_60}')\n",
    "\n",
    "\n",
    "\n",
    "# create dataframe of shuffled means and variances\n",
    "# teams_df_shuffled = pd.DataFrame(dic_shuffled, index=['mean', 'variance']).T\n",
    "# teams_df_shuffled = teams_df_shuffled.sort_values(by=['mean'], ascending=False)\n",
    "# print('\\nTeams after the season, with shuffle:')\n",
    "# print(teams_df_shuffled)\n"
   ]
  },
  {
   "cell_type": "code",
   "execution_count": 20,
   "metadata": {},
   "outputs": [
    {
     "name": "stdout",
     "output_type": "stream",
     "text": [
      "mean of team 1: 15.931529795621724\n",
      "variance of team 1: 0.0014074318944179067\n"
     ]
    },
    {
     "data": {
      "image/png": "[encoded data removed]",
      "text/plain": [
       "<Figure size 640x480 with 1 Axes>"
      ]
     },
     "metadata": {},
     "output_type": "display_data"
    }
   ],
   "source": [
    "# Plot the pdf of one of the teams\n",
    "means_of_dic1 = [i[0] for i in teams_dictionary.values()]\n",
    "variances_of_dic1 = [i[1] for i in teams_dictionary.values()]\n",
    "\n",
    "x = np.linspace(0, 35, 1000)\n",
    "y = stats.norm.pdf(x, means_of_dic1[0], np.sqrt(variances_of_dic1[0]))\n",
    "print(f'mean of team 1: {means_of_dic1[0]}')\n",
    "print(f'variance of team 1: {variances_of_dic1[0]}')\n",
    "\n",
    "plt.plot(x, y)\n",
    "plt.title('PDF of team 1 (maybe chievo)')\n",
    "plt.xlabel('x')\n",
    "plt.ylabel('Probability density')\n",
    "plt.show()\n"
   ]
  }
 ],
 "metadata": {
  "kernelspec": {
   "display_name": "Python 3",
   "language": "python",
   "name": "python3"
  },
  "language_info": {
   "codemirror_mode": {
    "name": "ipython",
    "version": 3
   },
   "file_extension": ".py",
   "mimetype": "text/x-python",
   "name": "python",
   "nbconvert_exporter": "python",
   "pygments_lexer": "ipython3",
   "version": "3.8.10"
  },
  "orig_nbformat": 4
 },
 "nbformat": 4,
 "nbformat_minor": 2
}
