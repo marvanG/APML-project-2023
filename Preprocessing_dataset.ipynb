{
 "cells": [
  {
   "cell_type": "markdown",
   "metadata": {},
   "source": [
    "Introduction to Q4: Gibbs Sampler\n"
   ]
  },
  {
   "cell_type": "code",
   "execution_count": null,
   "metadata": {},
   "outputs": [],
   "source": [
    "# APML - Advanced probabilistic machine learning Project\n",
    "# Preprecessing\n",
    "# prepare the dataset\n",
    "import pandas as pd\n",
    "\n",
    "def preprocess_serieA_no_draws(filepath='serieA_dataset.csv'):\n",
    "    \"\"\"\n",
    "    Load and preprocess the Serie A dataset.\n",
    "\n",
    "    Parameters:\n",
    "    - filepath (str): Path to the dataset.\n",
    "\n",
    "    Returns:\n",
    "    - games_df (pd.DataFrame): Processed dataframe without draw games.\n",
    "    \"\"\"\n",
    "\n",
    "    # Load dataset Serie A\n",
    "    games_df = pd.read_csv(filepath)\n",
    "    print(f'Shape of the games dataset: {games_df.shape}')\n",
    "    print(f'first 3 rows:\\n{games_df.head(3)}')\n",
    "    print('\\nDescription of the games dataset:') \n",
    "    print(games_df.describe())\n",
    "\n",
    "    # Remove draw games\n",
    "    draw_games_df = games_df[games_df['score1'] == games_df['score2']]\n",
    "    games_df = games_df.drop(draw_games_df.index)\n",
    "    print(f'\\nShape of the draw games dataset: {draw_games_df.shape}')\n",
    "    print(f'first 3 rows of draw games:\\n{draw_games_df.head(3)}')\n",
    "    print(f'\\nShape of the games dataset after removing draw games: {games_df.shape}')\n",
    "\n",
    "    # Create a new column with the result of the game\n",
    "    games_df['y'] = games_df.apply(lambda row: 1 if row['score1'] > row['score2'] else -1, axis=1)\n",
    "    print(f'first 3 rows of no-draw games:\\n{games_df.head(3)}')\n",
    "\n",
    "    # Remove unnecessary columns (score1, score2, HH:MM, yyyy-mm-dd)\n",
    "    games_df = games_df.drop(['score1', 'score2', 'HH:MM', 'yyyy-mm-dd'], axis=1)\n",
    "    print(f'\\nShape of the games dataset after removing unnecessary columns: {games_df.shape}')\n",
    "    print(f'first 3 rows of no-draw games:\\n{games_df.head(3)}')\n",
    "\n",
    "    return games_df\n",
    "\n",
    "\n",
    "\n",
    "\n",
    "\n",
    "# Optional: If you want to run the function and see its result directly from this script\n",
    "if __name__ == \"__main__\":\n",
    "    df = preprocess_serieA_no_draws()\n"
   ]
  }
 ],
 "metadata": {
  "kernelspec": {
   "display_name": "Python 3",
   "language": "python",
   "name": "python3"
  },
  "language_info": {
   "codemirror_mode": {
    "name": "ipython",
    "version": 3
   },
   "file_extension": ".py",
   "mimetype": "text/x-python",
   "name": "python",
   "nbconvert_exporter": "python",
   "pygments_lexer": "ipython3",
   "version": "3.8.10"
  },
  "orig_nbformat": 4
 },
 "nbformat": 4,
 "nbformat_minor": 2
}
