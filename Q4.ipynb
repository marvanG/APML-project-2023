{
 "cells": [
  {
   "cell_type": "code",
   "execution_count": 2,
   "metadata": {},
   "outputs": [],
   "source": [
    "import numpy as np\n",
    "import matplotlib.pyplot as plt\n",
    "from scipy.stats import invgamma,t\n",
    "from numpy import random, linalg\n",
    "from scipy.stats import multivariate_normal\n",
    "from scipy.stats import truncnorm"
   ]
  },
  {
   "cell_type": "code",
   "execution_count": 3,
   "metadata": {},
   "outputs": [
    {
     "name": "stderr",
     "output_type": "stream",
     "text": [
      "/tmp/ipykernel_36496/4097356990.py:13: DeprecationWarning: Conversion of an array with ndim > 0 to a scalar is deprecated, and will error in future. Ensure you extract a single element from your array before performing this operation. (Deprecated NumPy 1.25.)\n",
      "  mean_s1.append(float(mean_s[0]))\n",
      "/tmp/ipykernel_36496/4097356990.py:14: DeprecationWarning: Conversion of an array with ndim > 0 to a scalar is deprecated, and will error in future. Ensure you extract a single element from your array before performing this operation. (Deprecated NumPy 1.25.)\n",
      "  mean_s2.append(float(mean_s[1]))\n"
     ]
    }
   ],
   "source": [
    "\n",
    "#Gibbs parameters\n",
    "samples=15000\n",
    "burn_in=1000\n",
    "\n",
    "#s1,s2 -Assembler\n",
    "s1_list=[]\n",
    "s2_list=[]\n",
    "\n",
    "#mean S assembler\n",
    "mean_s=np.array([[28],[28]])\n",
    "mean_s1=[]\n",
    "mean_s2=[]\n",
    "mean_s1.append(float(mean_s[0]))\n",
    "mean_s2.append(float(mean_s[1]))\n",
    "\n",
    "#dev S assembler\n",
    "dev_s=np.array([[8.3,0],[0,8.3]])\n",
    "dev_s1=[]\n",
    "dev_s2=[]\n",
    "dev_s1.append(float(dev_s[0,0]))\n",
    "dev_s2.append(float(dev_s[0,1]))\n",
    "\n",
    "#def A\n",
    "A=np.array([[1,-1]])\n",
    "\n",
    "# #Initial values of s1 and s2\n",
    "s1=random.normal(loc=mean_s1,scale=np.sqrt(dev_s1),size=1)\n",
    "s2=random.normal(loc=mean_s2,scale=np.sqrt(dev_s2),size=1)\n",
    "\n",
    "s1_list.append(s1)\n",
    "s2_list.append(s2)\n",
    "a=0\n",
    "b=np.inf\n"
   ]
  },
  {
   "cell_type": "code",
   "execution_count": 4,
   "metadata": {},
   "outputs": [
    {
     "name": "stderr",
     "output_type": "stream",
     "text": [
      "/tmp/ipykernel_36496/2623923805.py:16: DeprecationWarning: Conversion of an array with ndim > 0 to a scalar is deprecated, and will error in future. Ensure you extract a single element from your array before performing this operation. (Deprecated NumPy 1.25.)\n",
      "  mean_s1.append(float(mean_s[0]))\n",
      "/tmp/ipykernel_36496/2623923805.py:17: DeprecationWarning: Conversion of an array with ndim > 0 to a scalar is deprecated, and will error in future. Ensure you extract a single element from your array before performing this operation. (Deprecated NumPy 1.25.)\n",
      "  mean_s2.append(float(mean_s[1]))\n",
      "/tmp/ipykernel_36496/2623923805.py:20: DeprecationWarning: Conversion of an array with ndim > 0 to a scalar is deprecated, and will error in future. Ensure you extract a single element from your array before performing this operation. (Deprecated NumPy 1.25.)\n",
      "  s1_list.append(float(s1))\n",
      "/tmp/ipykernel_36496/2623923805.py:21: DeprecationWarning: Conversion of an array with ndim > 0 to a scalar is deprecated, and will error in future. Ensure you extract a single element from your array before performing this operation. (Deprecated NumPy 1.25.)\n",
      "  s2_list.append(float(s2))\n"
     ]
    },
    {
     "name": "stdout",
     "output_type": "stream",
     "text": [
      "15000\n",
      "15000\n"
     ]
    }
   ],
   "source": [
    "#Gibbs sampling\n",
    "for i in range(samples-1):\n",
    "\n",
    "    #p(t>0|s1,s2)\n",
    "    mean_t=s1-s2\n",
    "    dev_t=dev_s[0,0]+dev_s[1,1]\n",
    "    t=truncnorm.rvs((a-mean_t)/np.sqrt(dev_t),(b-mean_t)/np.sqrt(dev_t),loc=mean_t,scale=np.sqrt(dev_t))\n",
    "    \n",
    "    # #p(s1,s2|t>0)\n",
    "    dev_s_old=dev_s\n",
    "    dev_s=np.linalg.inv(np.linalg.inv(dev_s)+np.transpose(A)*1/dev_t*A)\n",
    "    mean_s=dev_s@(np.linalg.inv(dev_s_old)@mean_s+np.transpose(A)*1/dev_t*t)\n",
    "    s1=random.normal(loc=mean_s[0],scale=np.sqrt(dev_s[0][0]),size=1)\n",
    "    s2=random.normal(loc=mean_s[1],scale=np.sqrt(dev_s[1][1]),size=1)\n",
    "\n",
    "    mean_s1.append(float(mean_s[0]))\n",
    "    mean_s2.append(float(mean_s[1]))\n",
    "    dev_s1.append(float(dev_s[0][0]))\n",
    "    dev_s1.append(float(dev_s[1][1]))\n",
    "    s1_list.append(float(s1))\n",
    "    s2_list.append(float(s2))\n",
    "\n",
    "\n",
    "\n",
    "\n",
    "\n",
    "\n",
    "print(len(s1_list))\n",
    "print(len(s2_list))   \n",
    "\n"
   ]
  },
  {
   "cell_type": "code",
   "execution_count": 5,
   "metadata": {},
   "outputs": [
    {
     "data": {
      "image/png": "[encoded data removed]",
      "text/plain": [
       "<Figure size 640x480 with 1 Axes>"
      ]
     },
     "metadata": {},
     "output_type": "display_data"
    }
   ],
   "source": [
    "import scipy.stats as stats\n",
    "# plt.figure(1)\n",
    "# # plt.plot(range(samples),mean_s1, label='mean of s1')\n",
    "# plt.plot(range(3000,samples),mean_s1[3000:], label='mean of s1')\n",
    "# plt.figure(2)\n",
    "# plt.plot(range(3000,samples),mean_s2[3000:], label='mean of s2')\n",
    "# # plt.plot(range(samples),mean_s2, label='mean of s2')\n",
    "# plt.legend()\n",
    "# plt.show()\n",
    "# plt.figure(3)\n",
    "# plt.plot(dev_s1,label='variance of s1')\n",
    "# plt.plot(dev_s2,label='variance of s2')\n",
    "# plt.legend()\n",
    "# plt.show()\n",
    "# plt.figure(4)\n",
    "\n",
    "# Create pdf\n",
    "xv = np.linspace(10, 50, 100)\n",
    "plt.hist(s1_list[100:],bins=100,density=True)\n",
    "plt.plot(xv, stats.norm.pdf(xv, mean_s1[-1], dev_s1[-1]), 'r')\n",
    "plt.title('s1')\n",
    "plt.show()\n",
    "\n"
   ]
  }
 ],
 "metadata": {
  "kernelspec": {
   "display_name": "fenicsx",
   "language": "python",
   "name": "python3"
  },
  "language_info": {
   "codemirror_mode": {
    "name": "ipython",
    "version": 3
   },
   "file_extension": ".py",
   "mimetype": "text/x-python",
   "name": "python",
   "nbconvert_exporter": "python",
   "pygments_lexer": "ipython3",
   "version": "3.10.12"
  },
  "orig_nbformat": 4
 },
 "nbformat": 4,
 "nbformat_minor": 2
}
