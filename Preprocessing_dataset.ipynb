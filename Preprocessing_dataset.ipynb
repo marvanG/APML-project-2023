{
 "cells": [
  {
   "cell_type": "markdown",
   "metadata": {},
   "source": [
    "# Introduction to Q4: Gibbs Sampler\n"
   ]
  },
  {
   "cell_type": "code",
   "execution_count": 2,
   "metadata": {},
   "outputs": [
    {
     "name": "stdout",
     "output_type": "stream",
     "text": [
      "Shape of the games dataset: (380, 6)\n",
      "first 3 rows:\n",
      "   yyyy-mm-dd  HH:MM   team1     team2  score1  score2\n",
      "0  2018-08-18  18:00  Chievo  Juventus       2       3\n",
      "1  2018-08-18  20:30   Lazio    Napoli       1       2\n",
      "2  2018-08-19  18:00  Torino      Roma       0       1\n",
      "\n",
      "Description of the games dataset:\n",
      "           score1      score2\n",
      "count  380.000000  380.000000\n",
      "mean     1.484211    1.197368\n",
      "std      1.196857    1.155687\n",
      "min      0.000000    0.000000\n",
      "25%      1.000000    0.000000\n",
      "50%      1.000000    1.000000\n",
      "75%      2.000000    2.000000\n",
      "max      6.000000    6.000000\n",
      "\n",
      "Shape of the draw games dataset: (108, 6)\n",
      "first 3 rows of draw games:\n",
      "    yyyy-mm-dd  HH:MM      team1    team2  score1  score2\n",
      "4   2018-08-19  20:30      Parma  Udinese       2       2\n",
      "12  2018-08-26  20:30      Inter   Torino       2       2\n",
      "14  2018-08-26  20:30  Frosinone  Bologna       0       0\n",
      "\n",
      "Shape of the games dataset after removing draw games: (272, 6)\n",
      "first 3 rows of no-draw games:\n",
      "   yyyy-mm-dd  HH:MM   team1     team2  score1  score2  y\n",
      "0  2018-08-18  18:00  Chievo  Juventus       2       3 -1\n",
      "1  2018-08-18  20:30   Lazio    Napoli       1       2 -1\n",
      "2  2018-08-19  18:00  Torino      Roma       0       1 -1\n",
      "\n",
      "Shape of the games dataset after removing unnecessary columns: (272, 3)\n",
      "first 3 rows of no-draw games:\n",
      "    team1     team2  y\n",
      "0  Chievo  Juventus -1\n",
      "1   Lazio    Napoli -1\n",
      "2  Torino      Roma -1\n"
     ]
    }
   ],
   "source": [
    "# APML - Advanced probabilistic machine learning Project\n",
    "# Preprecessing\n",
    "# prepare the dataset\n",
    "import pandas as pd\n",
    "\n",
    "def preprocess_serieA_no_draws(filepath='SerieA_dataset.csv'):\n",
    "    \"\"\"\n",
    "    Load and preprocess the Serie A dataset.\n",
    "\n",
    "    Parameters:\n",
    "    - filepath (str): Path to the dataset.\n",
    "\n",
    "    Returns:\n",
    "    - games_df (pd.DataFrame): Processed dataframe without draw games.\n",
    "    \"\"\"\n",
    "\n",
    "    # Load dataset Serie A\n",
    "    games_df = pd.read_csv(filepath)\n",
    "    print(f'Shape of the games dataset: {games_df.shape}')\n",
    "    print(f'first 3 rows:\\n{games_df.head(3)}')\n",
    "    print('\\nDescription of the games dataset:') \n",
    "    print(games_df.describe())\n",
    "\n",
    "    # Remove draw games\n",
    "    draw_games_df = games_df[games_df['score1'] == games_df['score2']]\n",
    "    games_df = games_df.drop(draw_games_df.index)\n",
    "    print(f'\\nShape of the draw games dataset: {draw_games_df.shape}')\n",
    "    print(f'first 3 rows of draw games:\\n{draw_games_df.head(3)}')\n",
    "    print(f'\\nShape of the games dataset after removing draw games: {games_df.shape}')\n",
    "\n",
    "    # Create a new column with the result of the game\n",
    "    games_df['y'] = games_df.apply(lambda row: 1 if row['score1'] > row['score2'] else -1, axis=1)\n",
    "    print(f'first 3 rows of no-draw games:\\n{games_df.head(3)}')\n",
    "\n",
    "    # Remove unnecessary columns (score1, score2, HH:MM, yyyy-mm-dd)\n",
    "    games_df = games_df.drop(['score1', 'score2', 'HH:MM', 'yyyy-mm-dd'], axis=1)\n",
    "    print(f'\\nShape of the games dataset after removing unnecessary columns: {games_df.shape}')\n",
    "    print(f'first 3 rows of no-draw games:\\n{games_df.head(3)}')\n",
    "\n",
    "    return games_df\n",
    "\n",
    "\n",
    "\n",
    "\n",
    "\n",
    "# Optional: If you want to run the function and see its result directly from this script\n",
    "if __name__ == \"__main__\":\n",
    "    df = preprocess_serieA_no_draws()\n"
   ]
  }
 ],
 "metadata": {
  "kernelspec": {
   "display_name": "Python 3",
   "language": "python",
   "name": "python3"
  },
  "language_info": {
   "codemirror_mode": {
    "name": "ipython",
    "version": 3
   },
   "file_extension": ".py",
   "mimetype": "text/x-python",
   "name": "python",
   "nbconvert_exporter": "python",
   "pygments_lexer": "ipython3",
   "version": "3.8.10"
  },
  "orig_nbformat": 4
 },
 "nbformat": 4,
 "nbformat_minor": 2
}
